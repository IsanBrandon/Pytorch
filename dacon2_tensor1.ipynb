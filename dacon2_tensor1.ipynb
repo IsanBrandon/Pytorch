{
 "cells": [
  {
   "cell_type": "markdown",
   "id": "6df39d07",
   "metadata": {},
   "source": [
    "# 1. 텐서의 기본 개념 및 생성 (1)\n",
    "### Tensor란 무엇인가\n",
    "Tensor는 data를 다차원 배열로 일반화한 것입니다. 수학적으로는 scalar, vector, matrix을 고차원으로 확장한 개념으로 볼 수 있으며, 딥러닝에서는 이러한 Tensor를 사용하여 복잡한 data 구조를 효율적으로 처리합니다. \\\n",
    "예를 들어, 0차원 Tensor는 단일 숫자(scalar)를, 1차원 Tensor는 숫자의 배열(vector)를, 2차원 Tensor는 숫자의 2차원 배열(matrix)을 나타내며, 이를 더 확장하여 Image Data(3차원 Tensor) or Video Data(4차원 Tensor) 등을 처리할 수 있습니다.\n",
    "### Tensor의 중요성\n",
    "Tensor는 Deeplearning model에서 data를 표현하고 처리하는 핵심적인 구성 요소입니다. 모든 Deeplearning 연산은 Tensor를 사용하여 수행되며, 이는 복잡한 Data Structurer를 효율적으로 다루기 위해 필수적입니다. Tensor를 사용함으로써 다음과 같은 이점을 얻을 수 있습니다\n",
    "- 다차원 데이터 처리: Tensor를 사용하면 image, video, text 등 다양한 형태의 고차원 data를 쉽게 처리할 수 있습니다.\n",
    "- 벡터화 연산: Tensor를 통한 벡터롸 연산은 계산 효율성을 높이고, 코드의 간결성을 유지할 수 있게 해줍니다.\n",
    "- GPU 가속: 대부분의 Deeplearning Library는 Tensor 연산을 GPU에서 실행할 수 있게 지원하여, 대규모 dataset의 처리 속도를 크게 향상시킵니다. \n",
    "### PyTorch에서의 Tensor\n",
    "PyTorch는 Tensor를 기반으로 Deeplearning model을 구축하고 학습합니다. PyTorch에서 Tensor는 torch.Tensor 클래스로 표현됩니다. 또한 동적 계산 그래프를 지원하여, 연산 과정이 Runtime에 결정되고 수정될 수 있게 해줍니다.\n",
    "## 1.1. 리스트 데이터로 텐서 생성하기\n"
   ]
  },
  {
   "cell_type": "code",
   "execution_count": 1,
   "id": "ac8f5751",
   "metadata": {},
   "outputs": [
    {
     "name": "stdout",
     "output_type": "stream",
     "text": [
      "tensor([1, 2, 3, 4, 5])\n"
     ]
    }
   ],
   "source": [
    "import torch\n",
    "\n",
    "ls = [1, 2, 3, 4, 5]\n",
    "tensor1 = torch.tensor(ls)\n",
    "\n",
    "print(tensor1)"
   ]
  },
  {
   "cell_type": "markdown",
   "id": "e66cbad7",
   "metadata": {},
   "source": [
    "## 1.2. 넘파이 배열로 Tensor 생성하기"
   ]
  },
  {
   "cell_type": "code",
   "execution_count": 2,
   "id": "22bd7017",
   "metadata": {},
   "outputs": [
    {
     "name": "stdout",
     "output_type": "stream",
     "text": [
      "tensor([1.5000, 2.5000, 3.5000], dtype=torch.float64)\n"
     ]
    }
   ],
   "source": [
    "import numpy as np\n",
    "\n",
    "numpy_array = np.array([1.5, 2.5, 3.5])\n",
    "tensor2 = torch.tensor(numpy_array)\n",
    "\n",
    "print(tensor2)"
   ]
  },
  {
   "cell_type": "markdown",
   "id": "696b0b08",
   "metadata": {},
   "source": [
    "# 2. Data Type\n",
    "### Tensor의 Type\n",
    "Tensor의 Type(data type)은 Tensor가 저장하고 있는 data의 종류를 정의합니다. PyTorch에서는 다양한 data type을 지원하여, 다양한 종류의 data와 연산의 정밀도 요구사항을 충족시킵니다. data type은 Tensor의 각 요소가 차지하는 memory의 크기와 표현할 수 있는 값의 범위를 결정합니다. \n",
    "## 2.1. Integer Types\n",
    "- torch.int8: 부호 없는 8비트 정수\n",
    "- torch.unit8: 부호 없는 8비트 정수\n",
    "- torch.int16 or torch.short: 16비트 정수\n",
    "- torch.int64 or torch.long: 64비트 정수"
   ]
  },
  {
   "cell_type": "code",
   "execution_count": 3,
   "id": "92cc37fc",
   "metadata": {},
   "outputs": [
    {
     "name": "stdout",
     "output_type": "stream",
     "text": [
      "정수형 텐서 값:  tensor([1, 2, 3, 4])\n",
      "텐서의 타입:  torch.int64\n"
     ]
    }
   ],
   "source": [
    "# 정수형 텐서 생성\n",
    "int_tensor = torch.tensor([1, 2, 3, 4])\n",
    "\n",
    "print(\"정수형 텐서 값: \", int_tensor)\n",
    "print(\"텐서의 타입: \", int_tensor.dtype)"
   ]
  },
  {
   "cell_type": "markdown",
   "id": "eb699c34",
   "metadata": {},
   "source": [
    "## 2.2. Floating Point Types\n",
    "- torch.float16 or torch.half: 16비트 반정밀도 부동 소수점\n",
    "- torch.float32 or torch.float: 32비트 단정밀도 부동 소수점\n",
    "- torch.float64 or torch.double: 64비트 배정밀도 부동 소수점\n",
    "- torch.complex64: 32 비트 부동 소수점을 사용하는 복소수\n",
    "- torch.complex128 or torch.cdouble: 64비트 부동 소수점을 사용하는 복소수"
   ]
  },
  {
   "cell_type": "code",
   "execution_count": 4,
   "id": "3daefa1b",
   "metadata": {},
   "outputs": [
    {
     "name": "stdout",
     "output_type": "stream",
     "text": [
      "실수형 텐서 값:  tensor([1., 2., 3., 4.])\n",
      "텐서의 타입:  torch.float32\n"
     ]
    }
   ],
   "source": [
    "# 부동 소수점형 텐서 생성\n",
    "float_tensor = torch.tensor([1.0, 2.0, 3.0, 4.0])\n",
    "\n",
    "print(\"실수형 텐서 값: \", float_tensor)\n",
    "print(\"텐서의 타입: \", float_tensor.dtype)"
   ]
  },
  {
   "cell_type": "markdown",
   "id": "540659e2",
   "metadata": {},
   "source": [
    "## 2.3. Bool Type Tensor 생성\n",
    "- torch.bool: True or False"
   ]
  },
  {
   "cell_type": "code",
   "execution_count": 5,
   "id": "984e360f",
   "metadata": {},
   "outputs": [
    {
     "name": "stdout",
     "output_type": "stream",
     "text": [
      "불리언 텐서 값:  tensor([ True, False,  True])\n",
      "텐서의 타입:  torch.bool\n"
     ]
    }
   ],
   "source": [
    "bool_tensor = torch.tensor([True, False, True])\n",
    "\n",
    "print(\"불리언 텐서 값: \", bool_tensor)\n",
    "print(\"텐서의 타입: \", bool_tensor.dtype)"
   ]
  },
  {
   "cell_type": "markdown",
   "id": "95b61bcb",
   "metadata": {},
   "source": [
    "## 2.4. 지정된 Data Type으로 Tensor 생성"
   ]
  },
  {
   "cell_type": "code",
   "execution_count": 6,
   "id": "a648b4be",
   "metadata": {},
   "outputs": [
    {
     "name": "stdout",
     "output_type": "stream",
     "text": [
      "타입 변환한 텐서 값:  tensor([1., 2., 3., 4.])\n",
      "텐서의 타입:  torch.float32\n"
     ]
    }
   ],
   "source": [
    "specified_float_tensor = torch.tensor([1, 2, 3, 4], dtype=torch.float32)\n",
    "\n",
    "print(\"타입 변환한 텐서 값: \", specified_float_tensor)\n",
    "print(\"텐서의 타입: \",specified_float_tensor.dtype)"
   ]
  },
  {
   "cell_type": "markdown",
   "id": "10ce03a6",
   "metadata": {},
   "source": [
    "## 2.5. Tensor의 Type 변경 (1)"
   ]
  },
  {
   "cell_type": "code",
   "execution_count": 7,
   "id": "5f03c220",
   "metadata": {},
   "outputs": [
    {
     "name": "stdout",
     "output_type": "stream",
     "text": [
      "처음 생성한 텐서:  torch.int64\n",
      "float_tensor의 타입 확인:  torch.float32\n",
      "int_tensor의 타입 확인:  torch.int32\n",
      "double_tensor의 타입 확인:  torch.float64\n",
      "bool_tensor의 타입 확인:  torch.bool\n"
     ]
    }
   ],
   "source": [
    "# 초기 텐서 생성 (정수 타입)\n",
    "tensor = torch.tensor([1, 2, 3, 4])\n",
    "\n",
    "# 텐서 속성 변환\n",
    "float_tensor = tensor.float()           # int -> float\n",
    "int_tensor = float_tensor.int()         # float -> int\n",
    "double_tensor = float_tensor.double()   # float -> double\n",
    "bool_tensor = int_tensor.bool()         # int -> bool\n",
    "\n",
    "print(\"처음 생성한 텐서: \", tensor.dtype)\n",
    "print('float_tensor의 타입 확인: ', float_tensor.dtype)\n",
    "print('int_tensor의 타입 확인: ', int_tensor.dtype)\n",
    "print('double_tensor의 타입 확인: ', double_tensor.dtype)\n",
    "print('bool_tensor의 타입 확인: ', bool_tensor.dtype)"
   ]
  },
  {
   "cell_type": "markdown",
   "id": "42f00bfc",
   "metadata": {},
   "source": [
    "## 2.6. Tensor의 타입 변경 (2) - to 메소드"
   ]
  },
  {
   "cell_type": "code",
   "execution_count": 9,
   "id": "f9d64a5f",
   "metadata": {},
   "outputs": [
    {
     "name": "stdout",
     "output_type": "stream",
     "text": [
      "처음 생성한 텐서:  torch.int64\n",
      "float_tensor의 타입 확인:  torch.float32\n",
      "int_tensor의 타입 확인:  torch.int32\n",
      "double_tensor의 타입 확인:  torch.float64\n",
      "bool_tensor의 타입 확인:  torch.bool\n"
     ]
    }
   ],
   "source": [
    "# 텐서 속성 변환\n",
    "float_tensor2 = tensor.to(dtype=torch.float32)\n",
    "int_tensor2 = float_tensor.to(dtype=torch.int32)\n",
    "double_tensor2 = float_tensor.to(dtype=torch.float64)\n",
    "bool_tensor2 = int_tensor.to(dtype=torch.bool)\n",
    "\n",
    "print(\"처음 생성한 텐서: \", tensor.dtype)\n",
    "print('float_tensor의 타입 확인: ', float_tensor2.dtype)\n",
    "print('int_tensor의 타입 확인: ', int_tensor2.dtype)\n",
    "print('double_tensor의 타입 확인: ', double_tensor2.dtype)\n",
    "print('bool_tensor의 타입 확인: ', bool_tensor2.dtype)"
   ]
  },
  {
   "cell_type": "markdown",
   "id": "ac220c38",
   "metadata": {},
   "source": [
    "# 3. Dimension and Shape\n",
    "### Dimension\n",
    "Dimension은 Tensor가 가지는 axis(축)의 수를 의미합니다. 차원의 수는 Tensor 데이터의 복잡성을 나타내며, 이는 Tensor가 얼마나 많은 수준의 중첩된 배열 구조를 가지고 있는지를 나타냅니다.\n",
    "- 0차원 Tensor: scalar(단일 숫자)\n",
    "- 1차원 Tensor: vector(숫자의 배열)\n",
    "- 2차원 Tensor: matrix(숫자의 2차원 배열)\n",
    "- 3차원 이상의 Tensor: 다차원 배열을 의미합니다.\n",
    "### Shape"
   ]
  },
  {
   "cell_type": "code",
   "execution_count": null,
   "id": "a4469c0f",
   "metadata": {},
   "outputs": [],
   "source": []
  },
  {
   "cell_type": "code",
   "execution_count": null,
   "id": "c4331dc8",
   "metadata": {},
   "outputs": [],
   "source": []
  }
 ],
 "metadata": {
  "kernelspec": {
   "display_name": "pytorch_env",
   "language": "python",
   "name": "python3"
  },
  "language_info": {
   "codemirror_mode": {
    "name": "ipython",
    "version": 3
   },
   "file_extension": ".py",
   "mimetype": "text/x-python",
   "name": "python",
   "nbconvert_exporter": "python",
   "pygments_lexer": "ipython3",
   "version": "3.10.18"
  }
 },
 "nbformat": 4,
 "nbformat_minor": 5
}
