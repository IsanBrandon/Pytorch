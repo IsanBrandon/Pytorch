{
 "cells": [
  {
   "cell_type": "markdown",
   "id": "6df39d07",
   "metadata": {},
   "source": [
    "# 1. 텐서의 기본 개념 및 생성 (1)\n",
    "### Tensor란 무엇인가\n",
    "Tensor는 data를 다차원 배열로 일반화한 것입니다. 수학적으로는 scalar, vector, matrix을 고차원으로 확장한 개념으로 볼 수 있으며, 딥러닝에서는 이러한 Tensor를 사용하여 복잡한 data 구조를 효율적으로 처리합니다. \\\n",
    "예를 들어, 0차원 Tensor는 단일 숫자(scalar)를, 1차원 Tensor는 숫자의 배열(vector)를, 2차원 Tensor는 숫자의 2차원 배열(matrix)을 나타내며, 이를 더 확장하여 Image Data(3차원 Tensor) or Video Data(4차원 Tensor) 등을 처리할 수 있습니다.\n",
    "### Tensor의 중요성\n",
    "Tensor는 Deeplearning model에서 data를 표현하고 처리하는 핵심적인 구성 요소입니다. 모든 Deeplearning 연산은 Tensor를 사용하여 수행되며, 이는 복잡한 Data Structurer를 효율적으로 다루기 위해 필수적입니다. Tensor를 사용함으로써 다음과 같은 이점을 얻을 수 있습니다\n",
    "- 다차원 데이터 처리: Tensor를 사용하면 image, video, text 등 다양한 형태의 고차원 data를 쉽게 처리할 수 있습니다.\n",
    "- 벡터화 연산: Tensor를 통한 벡터롸 연산은 계산 효율성을 높이고, 코드의 간결성을 유지할 수 있게 해줍니다.\n",
    "- GPU 가속: 대부분의 Deeplearning Library는 Tensor 연산을 GPU에서 실행할 수 있게 지원하여, 대규모 dataset의 처리 속도를 크게 향상시킵니다. \n",
    "### PyTorch에서의 Tensor\n",
    "PyTorch는 Tensor를 기반으로 Deeplearning model을 구축하고 학습합니다. PyTorch에서 Tensor는 torch.Tensor 클래스로 표현됩니다. 또한 동적 계산 그래프를 지원하여, 연산 과정이 Runtime에 결정되고 수정될 수 있게 해줍니다.\n",
    "## 1.1. 리스트 데이터로 텐서 생성하기\n"
   ]
  },
  {
   "cell_type": "code",
   "execution_count": 2,
   "id": "ac8f5751",
   "metadata": {},
   "outputs": [
    {
     "name": "stdout",
     "output_type": "stream",
     "text": [
      "tensor([1, 2, 3, 4, 5])\n"
     ]
    }
   ],
   "source": [
    "import torch\n",
    "\n",
    "ls = [1, 2, 3, 4, 5]\n",
    "tensor1 = torch.tensor(ls)\n",
    "\n",
    "print(tensor1)"
   ]
  },
  {
   "cell_type": "markdown",
   "id": "e66cbad7",
   "metadata": {},
   "source": [
    "## 1.2. 넘파이 배열로 Tensor 생성하기"
   ]
  },
  {
   "cell_type": "code",
   "execution_count": 3,
   "id": "22bd7017",
   "metadata": {},
   "outputs": [
    {
     "name": "stdout",
     "output_type": "stream",
     "text": [
      "tensor([1.5000, 2.5000, 3.5000], dtype=torch.float64)\n"
     ]
    }
   ],
   "source": [
    "import numpy as np\n",
    "\n",
    "numpy_array = np.array([1.5, 2.5, 3.5])\n",
    "tensor2 = torch.tensor(numpy_array)\n",
    "\n",
    "print(tensor2)"
   ]
  },
  {
   "cell_type": "markdown",
   "id": "696b0b08",
   "metadata": {},
   "source": [
    "# 2. Data Type\n",
    "### Tensor의 Type\n",
    "Tensor의 Type(data type)은 Tensor가 저장하고 있는 data의 종류를 정의합니다. PyTorch에서는 다양한 data type을 지원하여, 다양한 종류의 data와 연산의 정밀도 요구사항을 충족시킵니다. data type은 Tensor의 각 요소가 차지하는 memory의 크기와 표현할 수 있는 값의 범위를 결정합니다. \n",
    "## 2.1. Integer Types\n",
    "- torch.int8: 부호 없는 8비트 정수\n",
    "- torch.unit8: 부호 없는 8비트 정수\n",
    "- torch.int16 or torch.short: 16비트 정수\n",
    "- torch.int64 or torch.long: 64비트 정수"
   ]
  },
  {
   "cell_type": "code",
   "execution_count": 4,
   "id": "92cc37fc",
   "metadata": {},
   "outputs": [
    {
     "name": "stdout",
     "output_type": "stream",
     "text": [
      "정수형 텐서 값:  tensor([1, 2, 3, 4])\n",
      "텐서의 타입:  torch.int64\n"
     ]
    }
   ],
   "source": [
    "# 정수형 텐서 생성\n",
    "int_tensor = torch.tensor([1, 2, 3, 4])\n",
    "\n",
    "print(\"정수형 텐서 값: \", int_tensor)\n",
    "print(\"텐서의 타입: \", int_tensor.dtype)"
   ]
  },
  {
   "cell_type": "markdown",
   "id": "eb699c34",
   "metadata": {},
   "source": [
    "## 2.2. Floating Point Types\n",
    "- torch.float16 or torch.half: 16비트 반정밀도 부동 소수점\n",
    "- torch.float32 or torch.float: 32비트 단정밀도 부동 소수점\n",
    "- torch.float64 or torch.double: 64비트 배정밀도 부동 소수점\n",
    "- torch.complex64: 32 비트 부동 소수점을 사용하는 복소수\n",
    "- torch.complex128 or torch.cdouble: 64비트 부동 소수점을 사용하는 복소수"
   ]
  },
  {
   "cell_type": "code",
   "execution_count": 5,
   "id": "3daefa1b",
   "metadata": {},
   "outputs": [
    {
     "name": "stdout",
     "output_type": "stream",
     "text": [
      "실수형 텐서 값:  tensor([1., 2., 3., 4.])\n",
      "텐서의 타입:  torch.float32\n"
     ]
    }
   ],
   "source": [
    "# 부동 소수점형 텐서 생성\n",
    "float_tensor = torch.tensor([1.0, 2.0, 3.0, 4.0])\n",
    "\n",
    "print(\"실수형 텐서 값: \", float_tensor)\n",
    "print(\"텐서의 타입: \", float_tensor.dtype)"
   ]
  },
  {
   "cell_type": "markdown",
   "id": "540659e2",
   "metadata": {},
   "source": [
    "## 2.3. Bool Type Tensor 생성\n",
    "- torch.bool: True or False"
   ]
  },
  {
   "cell_type": "code",
   "execution_count": 6,
   "id": "984e360f",
   "metadata": {},
   "outputs": [
    {
     "name": "stdout",
     "output_type": "stream",
     "text": [
      "불리언 텐서 값:  tensor([ True, False,  True])\n",
      "텐서의 타입:  torch.bool\n"
     ]
    }
   ],
   "source": [
    "bool_tensor = torch.tensor([True, False, True])\n",
    "\n",
    "print(\"불리언 텐서 값: \", bool_tensor)\n",
    "print(\"텐서의 타입: \", bool_tensor.dtype)"
   ]
  },
  {
   "cell_type": "markdown",
   "id": "95b61bcb",
   "metadata": {},
   "source": [
    "## 2.4. 지정된 Data Type으로 Tensor 생성"
   ]
  },
  {
   "cell_type": "code",
   "execution_count": 7,
   "id": "a648b4be",
   "metadata": {},
   "outputs": [
    {
     "name": "stdout",
     "output_type": "stream",
     "text": [
      "타입 변환한 텐서 값:  tensor([1., 2., 3., 4.])\n",
      "텐서의 타입:  torch.float32\n"
     ]
    }
   ],
   "source": [
    "specified_float_tensor = torch.tensor([1, 2, 3, 4], dtype=torch.float32)\n",
    "\n",
    "print(\"타입 변환한 텐서 값: \", specified_float_tensor)\n",
    "print(\"텐서의 타입: \",specified_float_tensor.dtype)"
   ]
  },
  {
   "cell_type": "markdown",
   "id": "10ce03a6",
   "metadata": {},
   "source": [
    "## 2.5. Tensor의 Type 변경 (1)"
   ]
  },
  {
   "cell_type": "code",
   "execution_count": 8,
   "id": "5f03c220",
   "metadata": {},
   "outputs": [
    {
     "name": "stdout",
     "output_type": "stream",
     "text": [
      "처음 생성한 텐서:  torch.int64\n",
      "float_tensor의 타입 확인:  torch.float32\n",
      "int_tensor의 타입 확인:  torch.int32\n",
      "double_tensor의 타입 확인:  torch.float64\n",
      "bool_tensor의 타입 확인:  torch.bool\n"
     ]
    }
   ],
   "source": [
    "# 초기 텐서 생성 (정수 타입)\n",
    "tensor = torch.tensor([1, 2, 3, 4])\n",
    "\n",
    "# 텐서 속성 변환\n",
    "float_tensor = tensor.float()           # int -> float\n",
    "int_tensor = float_tensor.int()         # float -> int\n",
    "double_tensor = float_tensor.double()   # float -> double\n",
    "bool_tensor = int_tensor.bool()         # int -> bool\n",
    "\n",
    "print(\"처음 생성한 텐서: \", tensor.dtype)\n",
    "print('float_tensor의 타입 확인: ', float_tensor.dtype)\n",
    "print('int_tensor의 타입 확인: ', int_tensor.dtype)\n",
    "print('double_tensor의 타입 확인: ', double_tensor.dtype)\n",
    "print('bool_tensor의 타입 확인: ', bool_tensor.dtype)"
   ]
  },
  {
   "cell_type": "markdown",
   "id": "42f00bfc",
   "metadata": {},
   "source": [
    "## 2.6. Tensor의 타입 변경 (2) - to 메소드"
   ]
  },
  {
   "cell_type": "code",
   "execution_count": 9,
   "id": "f9d64a5f",
   "metadata": {},
   "outputs": [
    {
     "name": "stdout",
     "output_type": "stream",
     "text": [
      "처음 생성한 텐서:  torch.int64\n",
      "float_tensor의 타입 확인:  torch.float32\n",
      "int_tensor의 타입 확인:  torch.int32\n",
      "double_tensor의 타입 확인:  torch.float64\n",
      "bool_tensor의 타입 확인:  torch.bool\n"
     ]
    }
   ],
   "source": [
    "# 텐서 속성 변환\n",
    "float_tensor2 = tensor.to(dtype=torch.float32)\n",
    "int_tensor2 = float_tensor.to(dtype=torch.int32)\n",
    "double_tensor2 = float_tensor.to(dtype=torch.float64)\n",
    "bool_tensor2 = int_tensor.to(dtype=torch.bool)\n",
    "\n",
    "print(\"처음 생성한 텐서: \", tensor.dtype)\n",
    "print('float_tensor의 타입 확인: ', float_tensor2.dtype)\n",
    "print('int_tensor의 타입 확인: ', int_tensor2.dtype)\n",
    "print('double_tensor의 타입 확인: ', double_tensor2.dtype)\n",
    "print('bool_tensor의 타입 확인: ', bool_tensor2.dtype)"
   ]
  },
  {
   "cell_type": "markdown",
   "id": "ac220c38",
   "metadata": {},
   "source": [
    "# 3. Dimension and Shape\n",
    "### Dimension\n",
    "Dimension은 Tensor가 가지는 axis(축)의 수를 의미합니다. 차원의 수는 Tensor 데이터의 복잡성을 나타내며, 이는 Tensor가 얼마나 많은 수준의 중첩된 배열 구조를 가지고 있는지를 나타냅니다.\n",
    "- 0차원 Tensor: scalar(단일 숫자)\n",
    "- 1차원 Tensor: vector(숫자의 배열)\n",
    "- 2차원 Tensor: matrix(숫자의 2차원 배열)\n",
    "- 3차원 이상의 Tensor: 다차원 배열을 의미합니다.\n",
    "### Shape\n",
    "형태는 각 차원에서 텐서가 얼마나 많은 요소를 가지고 있는지를 나태나는 튜플입니다. 형태는 텐서의 구체적인 크기와 구조를 정의합니다. \\\n",
    "예를 들어, [3, 4] 형태의 2차원 텐서는 3개의 행과 4개의 열을 가진 행렬을 의미합니다. [2, 3, 4] 형태의 3차원 텐서는 2개의 3x4 행렬을 쌓아 놓은 구조를 가지고 있습니다. \\\n",
    "텐서의 형태는 데이터를 조작하고, 모델을 설계할 때 중요한 역할을 합니다. 예를 들어, 신경망의 입력 레이어는 입력 데이터의 형태에 따라 설계되어야 하며, 연산을 수행할 때 텐서의 형태가 올바르게 맞춰져 있어야 합니다.\n",
    "### 코드 설명\n",
    "- 차원 확인: tensor.dim() or len(tensor.shape)를 사용하여 Tensor의 차원을 확인할 수 있습니다.\n",
    "- 형태 확인: tensor.shape or tensor.size()를 사용하여 Tensor의 형태(크기)를 확인할 수 있습니다.\n",
    "## 3.1. Scalar"
   ]
  },
  {
   "cell_type": "code",
   "execution_count": 10,
   "id": "c4331dc8",
   "metadata": {},
   "outputs": [
    {
     "name": "stdout",
     "output_type": "stream",
     "text": [
      "스칼라:  tensor(5)\n",
      "스칼라 차원:  0\n",
      "스칼라 형태:  torch.Size([])\n"
     ]
    }
   ],
   "source": [
    "data = 5\n",
    "\n",
    "scalar = torch.tensor(data)\n",
    "\n",
    "print(\"스칼라: \", scalar)\n",
    "print(\"스칼라 차원: \", scalar.dim())\n",
    "print(\"스칼라 형태: \", scalar.shape)"
   ]
  },
  {
   "cell_type": "markdown",
   "id": "80cf482c",
   "metadata": {},
   "source": [
    "## 3.2. Vector 생성"
   ]
  },
  {
   "cell_type": "code",
   "execution_count": 12,
   "id": "578912a3",
   "metadata": {},
   "outputs": [
    {
     "name": "stdout",
     "output_type": "stream",
     "text": [
      "벡터:  tensor([1, 2, 3])\n",
      "벡터 차원:  1\n",
      "벡터 형태:  torch.Size([3])\n"
     ]
    }
   ],
   "source": [
    "data = [1, 2, 3]\n",
    "\n",
    "vector = torch.tensor(data)\n",
    "\n",
    "print(\"벡터: \", vector)\n",
    "print(\"벡터 차원: \", vector.dim())\n",
    "print(\"벡터 형태: \", vector.shape)"
   ]
  },
  {
   "cell_type": "markdown",
   "id": "67fd24c9",
   "metadata": {},
   "source": [
    "## 3.3 Matrix (2차원 Tensor) 생성"
   ]
  },
  {
   "cell_type": "code",
   "execution_count": 13,
   "id": "007ef25c",
   "metadata": {},
   "outputs": [
    {
     "name": "stdout",
     "output_type": "stream",
     "text": [
      "벡터:  tensor([[1, 2, 3],\n",
      "        [4, 5, 6]])\n",
      "벡터 차원:  2\n",
      "벡터 형태:  torch.Size([2, 3])\n"
     ]
    }
   ],
   "source": [
    "data = [[1, 2, 3],\n",
    "        [4, 5, 6]]\n",
    "\n",
    "vector = torch.tensor(data)\n",
    "\n",
    "print(\"벡터: \", vector)\n",
    "print(\"벡터 차원: \", vector.dim())\n",
    "print(\"벡터 형태: \", vector.shape)"
   ]
  },
  {
   "cell_type": "markdown",
   "id": "4ad24195",
   "metadata": {},
   "source": [
    "## 3.4. 3차원 Tensor 생성"
   ]
  },
  {
   "cell_type": "code",
   "execution_count": 17,
   "id": "b57cc987",
   "metadata": {},
   "outputs": [
    {
     "name": "stdout",
     "output_type": "stream",
     "text": [
      "3차원 텐서:\n",
      " tensor([[[1, 2, 3],\n",
      "         [3, 4, 5]],\n",
      "\n",
      "        [[5, 6, 7],\n",
      "         [7, 8, 8]]])\n",
      "3차원 텐서 차원:  3\n",
      "3차원 텐서 형태:  torch.Size([2, 2, 3])\n"
     ]
    }
   ],
   "source": [
    "data = [\n",
    "    [[1, 2, 3],\n",
    "     [3, 4, 5]],\n",
    "    [[5, 6, 7],\n",
    "     [7, 8, 8]]\n",
    "    ]\n",
    "\n",
    "tensor3D = torch.tensor(data)\n",
    "\n",
    "print(\"3차원 텐서:\\n\", tensor3D)\n",
    "print(\"3차원 텐서 차원: \", tensor3D.dim())\n",
    "print(\"3차원 텐서 형태: \", tensor3D.shape)"
   ]
  },
  {
   "cell_type": "markdown",
   "id": "5cd6aaee",
   "metadata": {},
   "source": [
    "# 4. 텐서 생성 (1)\n",
    "## 4.1. torch.zeros\n",
    "지정된 크기로 모든 요소가 0인 Tensor를 생성합니다. 이는 가중치 초기화나 임시 Tensor 생성 시 유용하게 사용됩니다. "
   ]
  },
  {
   "cell_type": "code",
   "execution_count": 16,
   "id": "6de735aa",
   "metadata": {},
   "outputs": [
    {
     "name": "stdout",
     "output_type": "stream",
     "text": [
      "영(0) 텐서:\n",
      " tensor([[0., 0., 0.],\n",
      "        [0., 0., 0.]])\n"
     ]
    }
   ],
   "source": [
    "zeros_tensor = torch.zeros(2, 3)\n",
    "print(\"영(0) 텐서:\\n\", zeros_tensor)"
   ]
  },
  {
   "cell_type": "markdown",
   "id": "22cda74d",
   "metadata": {},
   "source": [
    "## 4.2. torch.ones\n",
    "지정된 크기의 Tensor를 생성하고 모든 요소를 1로 채웁니다. 이는 종종 특정 연산에서의 기본값 설정이나, 마스킹 연산에서 사용됩니다."
   ]
  },
  {
   "cell_type": "code",
   "execution_count": 18,
   "id": "6738d0de",
   "metadata": {},
   "outputs": [
    {
     "name": "stdout",
     "output_type": "stream",
     "text": [
      "일(1) 텐서:\n",
      " tensor([[1., 1., 1.],\n",
      "        [1., 1., 1.]])\n"
     ]
    }
   ],
   "source": [
    "ones_tensor = torch.ones(2, 3)\n",
    "print(\"일(1) 텐서:\\n\", ones_tensor)"
   ]
  },
  {
   "cell_type": "markdown",
   "id": "70b4eed0",
   "metadata": {},
   "source": [
    "## 4.3. torch.full\n",
    "지정된 크기로 모든 요소를 사용자가 지정한 값으로 채운 Tensor를 생성합니다. 이는 특정 값으로 초기화된 Tensor가 필요할 때 사용됩니다."
   ]
  },
  {
   "cell_type": "code",
   "execution_count": 19,
   "id": "3fd0c170",
   "metadata": {},
   "outputs": [
    {
     "name": "stdout",
     "output_type": "stream",
     "text": [
      "Full 텐서:\n",
      " tensor([[5, 5, 5],\n",
      "        [5, 5, 5]])\n"
     ]
    }
   ],
   "source": [
    "full_tensor = torch.full((2, 3), 5)\n",
    "print(\"Full 텐서:\\n\", full_tensor)"
   ]
  },
  {
   "cell_type": "markdown",
   "id": "468bde78",
   "metadata": {},
   "source": [
    "## 4.4. torch.eye\n",
    "단위 행렬(identity matrix)을 생성합니다. 주 대각선 요소가 모두 1이고 나머지 요소는 0인 정사각 행렬을 반환합니다."
   ]
  },
  {
   "cell_type": "code",
   "execution_count": 20,
   "id": "c11ed3cc",
   "metadata": {},
   "outputs": [
    {
     "name": "stdout",
     "output_type": "stream",
     "text": [
      "\n",
      "Identity Matrix (Eye Tensor):\n",
      " tensor([[1., 0., 0.],\n",
      "        [0., 1., 0.],\n",
      "        [0., 0., 1.]])\n"
     ]
    }
   ],
   "source": [
    "eye_tensor = torch.eye(3)   # 3x3 단위 행렬 생성\n",
    "print(\"\\nIdentity Matrix (Eye Tensor):\\n\", eye_tensor)"
   ]
  },
  {
   "cell_type": "markdown",
   "id": "562edb5c",
   "metadata": {},
   "source": [
    "## 4.5. torch.arange\n",
    "시작값과 끝값, 그리고 선택적인 단계(step)값을 받아 이 범위 내에서 일정한 간격의 요소를 가진 1차원 Tensor를 생성합니다."
   ]
  },
  {
   "cell_type": "code",
   "execution_count": 21,
   "id": "5143140d",
   "metadata": {},
   "outputs": [
    {
     "name": "stdout",
     "output_type": "stream",
     "text": [
      "\n",
      "Arange Tensor:\n",
      " tensor([0, 2, 4, 6, 8])\n"
     ]
    }
   ],
   "source": [
    "arange_tensor = torch.arange(0, 10, 2)  # 0부터 10 미만까지 2씩 증가\n",
    "print(\"\\nArange Tensor:\\n\", arange_tensor)"
   ]
  },
  {
   "cell_type": "markdown",
   "id": "4406b64e",
   "metadata": {},
   "source": [
    "## 4.6. torch.linspace\n",
    "시작값과 끝값을 받고, 지정된 개수만큼의 요소를 이 두 값 사이에 균등하게 배치한 1차원 Tensor를 생성합니다."
   ]
  },
  {
   "cell_type": "code",
   "execution_count": 22,
   "id": "9132193b",
   "metadata": {},
   "outputs": [
    {
     "name": "stdout",
     "output_type": "stream",
     "text": [
      "\n",
      "Linspace Tensor:\n",
      " tensor([ 0.0000,  2.5000,  5.0000,  7.5000, 10.0000])\n"
     ]
    }
   ],
   "source": [
    "linspace_tensor = torch.linspace(0, 10, 5)  # 0부터 10까지 5개의 요소를 균등하게 배치\n",
    "print(\"\\nLinspace Tensor:\\n\", linspace_tensor)"
   ]
  },
  {
   "cell_type": "markdown",
   "id": "fedc8c49",
   "metadata": {},
   "source": [
    "# 5. Tensor 생성 (2) - Random data\n",
    "PyTorch는 Random data를 생성하여 Tensor를 초기화하는 여러 함수를 제공합니다. \\\n",
    "이러한 함수들은 model을 학습하기 전 가중치 초기화, 데이터 셔플링 or 더미 데이터 생성 등 다양한 목적으로 사용됩니다. \\\n",
    "\\\n",
    "아래는 Random data를 생성하는 함수 입니다.\n",
    "## 5.1. torch.rand\n",
    "주어진 크기의 Tensor를 생성하고, 모든 요소를 0과 1 사이의 uniform distribution(균일 분포)에서 랜덤하게 채웁니다.\\\n",
    "이는 일반적으로 모델의 가중치 초기화에 사용됩니다."
   ]
  },
  {
   "cell_type": "code",
   "execution_count": 23,
   "id": "ad33d654",
   "metadata": {},
   "outputs": [
    {
     "name": "stdout",
     "output_type": "stream",
     "text": [
      "균일 분포 랜덤 텐서:\n",
      " tensor([[0.5107, 0.4466, 0.4256],\n",
      "        [0.1200, 0.1447, 0.6996]])\n"
     ]
    }
   ],
   "source": [
    "rand_tensor = torch.rand(2, 3)\n",
    "print(\"균일 분포 랜덤 텐서:\\n\", rand_tensor)"
   ]
  },
  {
   "cell_type": "markdown",
   "id": "04a9bb18",
   "metadata": {},
   "source": [
    "## 5.2. torch.randn\n",
    "주어진 크기의 Tensor를 생성하고, 모든 요소를 평균 0과 표준편차 1을 가진 normal distribution(정규 분포)에서 랜덤하게 채웁니다.\\\n",
    "이 함수는 가중치 초기화 or 노이즈 추가 등에 유용하게 사용됩니다."
   ]
  },
  {
   "cell_type": "code",
   "execution_count": 24,
   "id": "a2dcd8a9",
   "metadata": {},
   "outputs": [
    {
     "name": "stdout",
     "output_type": "stream",
     "text": [
      "정규 분포 랜덤 텐서:\n",
      " tensor([[ 0.7129, -0.2696,  0.1592],\n",
      "        [-0.3640,  0.6517, -0.1771]])\n"
     ]
    }
   ],
   "source": [
    "randn_tensor = torch.randn(2, 3)\n",
    "print(\"정규 분포 랜덤 텐서:\\n\", randn_tensor)"
   ]
  },
  {
   "cell_type": "markdown",
   "id": "30ff4171",
   "metadata": {},
   "source": [
    "## 5.3. randint\n",
    "지정된 범위 내에서 랜덤한 정수를 생성하여 텐서를 초기화합니다. \\\n",
    "이 함수는 정수 값을 가진 Tensor를 필요로 할 때, 예를 들어 index를 랜덤하게 생성할 때 유용합니다."
   ]
  },
  {
   "cell_type": "code",
   "execution_count": 25,
   "id": "e7f8b9b3",
   "metadata": {},
   "outputs": [
    {
     "name": "stdout",
     "output_type": "stream",
     "text": [
      "정수 랜덤 텐서:\n",
      " tensor([[1, 6, 3],\n",
      "        [8, 3, 4]])\n"
     ]
    }
   ],
   "source": [
    "randint_tensor = torch.randint(low=0, high=10, size=(2, 3))\n",
    "print(\"정수 랜덤 텐서:\\n\", randint_tensor)"
   ]
  },
  {
   "cell_type": "markdown",
   "id": "cbcf1fe4",
   "metadata": {},
   "source": [
    "## 5.4. torch.randperm\n",
    "0부터 n-1까지의 정수를 랜덤하게 섞어서 반환합니다. 이는 dataset을 shuffling할 때 주로 사용됩니다."
   ]
  },
  {
   "cell_type": "code",
   "execution_count": 26,
   "id": "1304780b",
   "metadata": {},
   "outputs": [
    {
     "name": "stdout",
     "output_type": "stream",
     "text": [
      "랜덤 순열(Permutation) 텐서:\n",
      " tensor([3, 0, 5, 1, 8, 6, 9, 4, 2, 7])\n"
     ]
    }
   ],
   "source": [
    "randperm_tensor = torch.randperm(10)    # 0부터 9까지의 숫자를 random하게 섞음\n",
    "print(\"랜덤 순열(Permutation) 텐서:\\n\", randperm_tensor)"
   ]
  }
 ],
 "metadata": {
  "kernelspec": {
   "display_name": "pytorch_env",
   "language": "python",
   "name": "python3"
  },
  "language_info": {
   "codemirror_mode": {
    "name": "ipython",
    "version": 3
   },
   "file_extension": ".py",
   "mimetype": "text/x-python",
   "name": "python",
   "nbconvert_exporter": "python",
   "pygments_lexer": "ipython3",
   "version": "3.10.18"
  }
 },
 "nbformat": 4,
 "nbformat_minor": 5
}
