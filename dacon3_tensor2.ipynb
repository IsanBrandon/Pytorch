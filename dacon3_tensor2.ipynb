{
 "cells": [
  {
   "cell_type": "markdown",
   "id": "3a9d93ac",
   "metadata": {},
   "source": [
    "# 1. Tensor의 형태 변환\n",
    "## 1.1. Tensor의 형태 변경 - reshape\n",
    "reshape()함수는 Tensor의 형태를 변경하는 데 사용됩니다. 이 함수는 원본 Tensor의 data를 유지하면서 새로운 형태의 Tensor를 반환합니다. \\\n",
    "\\\n",
    "reshape()는 주어진 새로운 형태가 원본 Tensor의 총 원소 수와 일치할 때 사용할 수 있습니다. 이는 data의 차원을 재구성하거나, 특정 연산에 적합한 형태로 Tensor를 조정할 필요가 있을 때 매우 유용합니다. \\\n",
    "\\\n",
    "만약 변경하려는 형태가 원본 Tensor의 data와 호환되면, PyTorch는 가능한 한 원본 data를 공유하려고 시도합니다. 만약 원본 Tensor의 memory layout이 연속적이지 않아서 직접적인 형태 변경이 불가능한 경우, reshape()는 먼저 Tensor의 data를 복사하여 memory상에서 연속적인 형태로 만든 다음 형태를 변경합니다. 이는 추가적인 memory 사용과 계산 비용을 발생시킬 수 있습니다."
   ]
  },
  {
   "cell_type": "code",
   "execution_count": 2,
   "id": "80bc16b4",
   "metadata": {},
   "outputs": [
    {
     "name": "stdout",
     "output_type": "stream",
     "text": [
      "텐서:  tensor([ 0,  1,  2,  3,  4,  5,  6,  7,  8,  9, 10, 11, 12, 13, 14, 15])\n",
      "텐서의 형태:  torch.Size([16])\n",
      "\n",
      "변형 후 텐서:\n",
      " tensor([[ 0,  1,  2,  3],\n",
      "        [ 4,  5,  6,  7],\n",
      "        [ 8,  9, 10, 11],\n",
      "        [12, 13, 14, 15]])\n",
      "변형 후 텐서의 형태:  torch.Size([4, 4])\n"
     ]
    }
   ],
   "source": [
    "import torch\n",
    "\n",
    "# 초기 텐서 생성\n",
    "x = torch.arange(16)    # 0에서 15까지의 숫자를 포함하는 텐서\n",
    "print(\"텐서: \", x)\n",
    "print(\"텐서의 형태: \", x.shape)\n",
    "\n",
    "# reshape 함수 사용 예제\n",
    "reshaped_x = x.reshape(4, 4)    # 4x4 텐서로 변경\n",
    "print(\"\\n변형 후 텐서:\\n\", reshaped_x)\n",
    "print(\"변형 후 텐서의 형태: \", reshaped_x.shape)"
   ]
  },
  {
   "cell_type": "markdown",
   "id": "7a7c4601",
   "metadata": {},
   "source": [
    "## 1.2. Tensor의 형태 변경 - view\n",
    "view()함수는 원본 Tensor의 data를 공유하는 새로운 형태의 Tensor를 반환합니다. 이는 data의 실제 memory layout을 변경하지 않으며, 단지 Tensor에 대한 새로운 index view를 제공합니다. \\\n",
    "\\\n",
    "만약 원본 Tensor가 memory상에서 연속적이지 않은 경우, view()함수는 오류를 발생시킵니다. 이런 상황에서는 reshape()함수를 사용하거나, contiguous() 메소드를 호출한 후 view()를 사용해야 합니다. "
   ]
  },
  {
   "cell_type": "code",
   "execution_count": null,
   "id": "ca93adab",
   "metadata": {},
   "outputs": [
    {
     "name": "stdout",
     "output_type": "stream",
     "text": [
      "변형 후 텐서:  tensor([[[ 0,  1],\n",
      "         [ 2,  3]],\n",
      "\n",
      "        [[ 4,  5],\n",
      "         [ 6,  7]],\n",
      "\n",
      "        [[ 8,  9],\n",
      "         [10, 11]],\n",
      "\n",
      "        [[12, 13],\n",
      "         [14, 15]]])\n",
      "변형 후 텐서의 형태:  torch.Size([4, 2, 2])\n"
     ]
    }
   ],
   "source": [
    "viewed_x = x.view(4, 2, 2)  # 4x2x2 텐서롤 변경\n",
    "print(\"변형 후 텐서:\\n\", viewed_x)\n",
    "print(\"변형 후 텐서의 형태: \", viewed_x.shape)"
   ]
  },
  {
   "cell_type": "markdown",
   "id": "c960adbe",
   "metadata": {},
   "source": [
    "# 1.3. 차원 축소 - squeeze\n",
    "squeeze함수는 Tensor에서 크기가 1인 차원을 찾아서 그 차원을 제거합니다. 이는 data의 형태를 바꾸지 않으면서 Tensor를 더 효율적으로 만들어 줍니다. \\\n",
    "\\\n",
    "예를 들어, 만약 여러분이 [1, 10, 1, 50] 크기의 Tensor를 가지고 있다면, sqeeze를 사용한 후에는 [10, 50] 크기의 Tensor를 얻게 됩니다."
   ]
  },
  {
   "cell_type": "code",
   "execution_count": null,
   "id": "29c0dc9c",
   "metadata": {},
   "outputs": [
    {
     "name": "stdout",
     "output_type": "stream",
     "text": [
      "원본 텐서:  tensor([[[1, 2, 3, 4]]])\n",
      "원본 텐서 형태:  torch.Size([1, 1, 4])\n",
      "\n",
      "변형된 텐서:  tensor([1, 2, 3, 4])\n",
      "변형된 텐서 형태:  torch.Size([4])\n",
      "\n",
      "변형된 텐서:  tensor([[1, 2, 3, 4]])\n",
      "변형된 텐서 형태:  torch.Size([1, 4])\n"
     ]
    }
   ],
   "source": [
    "# 크기가 1인 차원을 포함하는 텐서 생성\n",
    "tensor = torch.tensor([[[1, 2, 3, 4]]])     # 크기: (1, 1, 4)\n",
    "print(\"원본 텐서: \", tensor)\n",
    "print(\"원본 텐서 형태: \", tensor.shape)\n",
    "\n",
    "# 모든 크기가 1인 차원을 제거\n",
    "squeezed_tensor = tensor.squeeze()\n",
    "print(\"\\n변형된 텐서: \", squeezed_tensor)\n",
    "print(\"변형된 텐서 형태: \", squeezed_tensor.shape)\n",
    "\n",
    "# 특정 차원을 지정하여 squeeze\n",
    "squeezed_dim_tensor = tensor.squeeze(0)     # 첫 번째 차원을 지정\n",
    "print(\"\\n변형된 텐서: \", squeezed_dim_tensor)\n",
    "print(\"변형된 텐서 형태: \", squeezed_dim_tensor.shape)"
   ]
  },
  {
   "cell_type": "markdown",
   "id": "6d4f7e47",
   "metadata": {},
   "source": [
    "## 1.4. 차원 확장 - unsqueeze\n",
    "squeeze가 상자에서 불필요한 공간을 제거한다면, unsqueeze는 상자에 조금 더 공간을 추가하는 것과 비슷합니다. PyTorch에서 unsqueeze함수는 지정된 위치에 새로운 차원을 추가합니다. 이것은 data의 형태를 바꾸는 방법으로 특정 연산을 수행하기 위해 data의 차원을 조정해야 할 때 유용합니다. \\\n",
    "\\\n",
    "예를 들어, [10, 50] 크기의 Tensor에 unsqueeze를 사용하여 첫 번째 위치에 차원을 추가하면, [1, 10, 50]의 크기를 가진 Tensor가 됩니다."
   ]
  },
  {
   "cell_type": "code",
   "execution_count": 9,
   "id": "1b644ba9",
   "metadata": {},
   "outputs": [
    {
     "name": "stdout",
     "output_type": "stream",
     "text": [
      "원본 텐서:  tensor([1, 2, 3, 4])\n",
      "원본 텐서 형태:  torch.Size([4])\n",
      "\n",
      "변형된 텐서:  tensor([[1, 2, 3, 4]])\n",
      "변형된 텐서 형태:  torch.Size([1, 4])\n",
      "\n",
      "변형된 텐서:\n",
      " tensor([[1],\n",
      "        [2],\n",
      "        [3],\n",
      "        [4]])\n",
      "변형된 텐서 형태:\n",
      " tensor([[1],\n",
      "        [2],\n",
      "        [3],\n",
      "        [4]])\n"
     ]
    }
   ],
   "source": [
    "# 원본 텐서 생성\n",
    "tensor = torch.tensor([1, 2, 3, 4])     # 크기: (4,)\n",
    "print(\"원본 텐서: \", tensor)\n",
    "print(\"원본 텐서 형태: \", tensor.shape)\n",
    "\n",
    "# 첫 번째 차원을 추가하여 차원 확장\n",
    "unsqueeze_tensor_first_dim = tensor.unsqueeze(0)\n",
    "print(\"\\n변형된 텐서: \", unsqueeze_tensor_first_dim)\n",
    "print(\"변형된 텐서 형태: \", unsqueeze_tensor_first_dim.shape)\n",
    "\n",
    "# 마지막 차원을 추가하여 차원 확장\n",
    "unsqueeze_tensor_last_dim = tensor.unsqueeze(-1)\n",
    "print(\"\\n변형된 텐서:\\n\", unsqueeze_tensor_last_dim)\n",
    "print(\"변형된 텐서 형태:\\n\", unsqueeze_tensor_last_dim)"
   ]
  },
  {
   "cell_type": "markdown",
   "id": "22212140",
   "metadata": {},
   "source": [
    "## 1.5. Tensor의 차원 교환 - transpose\n",
    "transpose 함수는 여러분이 책장을 정리하다가 책들을 가로로 놓은 것을 세로로 바꾸고 싶을 때와 비슷한 일을 합니다. \\\n",
    "즉, Tensor의 두 차원을 서로 바꾸는 역할을 합니다. 이는 matrix의 행과 열을 바꾸는 것과 유사하며, data를 다른 방식으로 해석하고 싶을 때 매우 유용합니다. \\\n",
    "\\\n",
    "예를 들어, [10, 50] 크기의 Tensor에 대해 첫 번째 차원과 두 번째 차원을 transpose하면, [50, 10] 크기의 Tensor를 얻게 됩니다."
   ]
  },
  {
   "cell_type": "code",
   "execution_count": 10,
   "id": "342c8644",
   "metadata": {},
   "outputs": [
    {
     "name": "stdout",
     "output_type": "stream",
     "text": [
      "변형된 텐서 형태:  torch.Size([3, 2, 4])\n"
     ]
    }
   ],
   "source": [
    "# 초기 3차원 텐서 생성\n",
    "tensor = torch.rand(2, 3, 4)\n",
    "\n",
    "transposed_tensor = tensor.transpose(0, 1)  # 첫 번째 차원과 두 번째 차원 교환\n",
    "print(\"변형된 텐서 형태: \", transposed_tensor.shape)"
   ]
  },
  {
   "cell_type": "markdown",
   "id": "9a153e6f",
   "metadata": {},
   "source": [
    "# 1.6. Tensor의 차원 교환 - permute\n",
    "permute 함수는 여러분이 방의 가구를 재배치하여 완전히 새로운 공간을 만들고 싶을 때와 비슷한 작업을 합니다.\\\n",
    "이 함수는 Tensor의 차원을 재배열할 수 있게 해줍니다. permute는 여러 차원을 한 번에 자유롭게 바꾸고 싶을 때 사용합니다.\\\n",
    "\\\n",
    "예를 들어, [10, 20, 30] 크기의 Tensor가 있을 때, permute를 사용하여 차원의 순서를 [2, 0, 1]로 바꾸면, [30, 10, 20] 크기의 새로운 형태의 Tensor를 얻게 됩니다."
   ]
  },
  {
   "cell_type": "code",
   "execution_count": 11,
   "id": "0d6f6a53",
   "metadata": {},
   "outputs": [
    {
     "name": "stdout",
     "output_type": "stream",
     "text": [
      "변형된 텐서 형태:  tensor([[[0.0593, 0.8689, 0.4752],\n",
      "         [0.5843, 0.2659, 0.4707]],\n",
      "\n",
      "        [[0.4275, 0.2822, 0.3125],\n",
      "         [0.4996, 0.2846, 0.9351]],\n",
      "\n",
      "        [[0.4274, 0.7029, 0.4659],\n",
      "         [0.8599, 0.7070, 0.6709]],\n",
      "\n",
      "        [[0.2231, 0.6980, 0.0773],\n",
      "         [0.7189, 0.5682, 0.3694]]])\n"
     ]
    }
   ],
   "source": [
    "# permute 사용 예제\n",
    "permuted_tensor = tensor.permute(2, 0, 1)   # 차원 순서를 (2, 0, 1)로 재배열\n",
    "print(\"변형된 텐서 형태: \", permuted_tensor)"
   ]
  },
  {
   "cell_type": "markdown",
   "id": "fff17833",
   "metadata": {},
   "source": [
    "# 2. Tensor의 결합과 분할\n",
    "## 2.1. Tenosr 결합 - cat\n",
    "cat 함수는 'concatenate(연결)'의 줄임말입니다. 마치 여러분이 친구들과 손을 잡고 줄을 서는 것처럼, cat 함수는 여러 Tensor를 지정된 차원을 따라 하나로 연결합니다.\\\n",
    "이를 통해 크기가 더 큰 새로운 Tensor를 생성할 수 있습니다. cat은 여러 data 조각을 하나로 모으고 싶을 때 매우 유용합니다.\\\n",
    "\\\n",
    "예를 들어, [2, 2] 및 [2, 3] 크기의 두 Tensor를 1번째 차원(열)을 따라 연결하면, [2, 5] 크기의 Tenosr가 만들어집니다."
   ]
  },
  {
   "cell_type": "code",
   "execution_count": 13,
   "id": "159e4032",
   "metadata": {},
   "outputs": [
    {
     "name": "stdout",
     "output_type": "stream",
     "text": [
      "결합된 텐서:\n",
      " tensor([[ 1,  2,  5,  6,  7],\n",
      "        [ 3,  4,  8,  9, 10]])\n",
      "\n",
      "tensor1 텐서 형태:  torch.Size([2, 2])\n",
      "tensor2 텐서 형태:  torch.Size([2, 3])\n",
      "cat_tensors 텐서 형태:  torch.Size([2, 5])\n"
     ]
    }
   ],
   "source": [
    "# 두 개의 텐서 생성\n",
    "tensor1 = torch.tensor([[1, 2], [3, 4]])\n",
    "tensor2 = torch.tensor([[5, 6, 7], [8, 9, 10]])\n",
    "\n",
    "# cat 함수 사용 예제\n",
    "cat_tensors = torch.cat((tensor1, tensor2), dim=1)  # 1번 차원(열)을 따라 결합\n",
    "print(\"결합된 텐서:\\n\", cat_tensors)\n",
    "\n",
    "print('\\ntensor1 텐서 형태: ', tensor1.shape)\n",
    "print('tensor2 텐서 형태: ', tensor2.shape)\n",
    "print('cat_tensors 텐서 형태: ', cat_tensors.shape)"
   ]
  },
  {
   "cell_type": "markdown",
   "id": "37ed2dd8",
   "metadata": {},
   "source": [
    "## 2.2. Tensor 결합 - stack\n",
    "stack 함수는 여러분이 책을 쌓아 올리듯이, 여러 Tensor를 새로운 차원을 추가하여 쌓아 올립니다.\\\n",
    "이는 cat과 다르게, 모든 Tensor에 대해 새로운 차원이 생기므로, Tenosor들은 그 크기가 동일해야만 합니다.\\\n",
    "stack은 data를 구조적으로 정리하고 싶을 때 유용합니다.\\\n",
    "\\\n",
    "예를 들어, 세 개의 [2, 2] 크기의 Tenosor를 stack으로 쌓으면, [3, 2, 2] 크기의 Tensor가 됩니다."
   ]
  },
  {
   "cell_type": "code",
   "execution_count": null,
   "id": "f1972588",
   "metadata": {},
   "outputs": [],
   "source": [
    "# 2x2 Matrix 생성\n",
    "tensor1 = torch.tensor([[1, 2], [3, 4]])\n",
    "tensor2 = torch.tensor([[5, 6], [7, 8]])\n",
    "tensor3 = torch.tensor([[9, 10], [11, 12]])\n",
    "\n",
    "# stack"
   ]
  }
 ],
 "metadata": {
  "kernelspec": {
   "display_name": "pytorch_env",
   "language": "python",
   "name": "python3"
  },
  "language_info": {
   "codemirror_mode": {
    "name": "ipython",
    "version": 3
   },
   "file_extension": ".py",
   "mimetype": "text/x-python",
   "name": "python",
   "nbconvert_exporter": "python",
   "pygments_lexer": "ipython3",
   "version": "3.10.18"
  }
 },
 "nbformat": 4,
 "nbformat_minor": 5
}
