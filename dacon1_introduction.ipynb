{
 "cells": [
  {
   "cell_type": "markdown",
   "id": "877f3b17",
   "metadata": {},
   "source": [
    "# 1. Pytorch란?"
   ]
  },
  {
   "cell_type": "code",
   "execution_count": 17,
   "id": "ee3f98c4",
   "metadata": {},
   "outputs": [],
   "source": [
    "import torch"
   ]
  },
  {
   "cell_type": "markdown",
   "id": "64f639b5",
   "metadata": {},
   "source": [
    "# 2. Pytorch 주요 특징"
   ]
  },
  {
   "cell_type": "markdown",
   "id": "7037c0bf",
   "metadata": {},
   "source": [
    "## 2.1. 직관적인 인터페이스"
   ]
  },
  {
   "cell_type": "markdown",
   "id": "72d580d9",
   "metadata": {},
   "source": [
    "Python과 매우 잘 통합되어 있어요. Pytorch 프로그래밍 언어의 기본 구문과 유사하게, 사용자가 쉽고 자연스럽게 Pytorch를 사용할 수 있다는 것입니다. 이는 Pytorch를 배우는 학습 곡선을 줄여줍니다. \\\n",
    "추가적으로, Pytorch의 native type과 잘 호환됩니다. 예를 들어, Python List를 직접 Pytorch Tensor로 변환할 수 있으며, Tensor 연산의 결과도 Python의 기본 type으로 쉽게 변환할 수 있습니다."
   ]
  },
  {
   "cell_type": "code",
   "execution_count": 18,
   "id": "36d31dac",
   "metadata": {},
   "outputs": [
    {
     "name": "stdout",
     "output_type": "stream",
     "text": [
      "tensor([1, 2, 3])\n"
     ]
    }
   ],
   "source": [
    "# 쉽게 이해 가능한 코드 형태.\n",
    "# 텐서를 생성합니다. 이 텐서는 [1, 2, 3]의 값을 가집니다.\n",
    "\n",
    "tensor = torch.tensor([1, 2, 3])\n",
    "print(tensor)"
   ]
  },
  {
   "cell_type": "markdown",
   "id": "61970d43",
   "metadata": {},
   "source": [
    "## 2.2 빠른 프로토타이핑"
   ]
  },
  {
   "cell_type": "markdown",
   "id": "f8508061",
   "metadata": {},
   "source": [
    "Pytorch는 신속한 실험과 아이디어 테스트를 가능하게 하는 도구입닏다. 이는 연구에서 새로운 아이디어를 빠르게 시도하고 결과를 얻는 데 유용합니다. \\\n",
    "예시 에서는 torch.nn.Sequential을 사용하여 신경망의 레이어를 연속적으로 나열합니다. 이 방식은 모델의 구조를 명확하고 직관적으로 정의할 수 있게 해주며, 코드의 길이를 단축시킵니다. \\\n",
    "torch.nn.Linear와 torch.nn.ReLU와 같은 표준 레이어를 쉽게 추가할 수 있습니다. 이러한 built-in 레이어를 사용하면 복잡한 구성 없이 신경망을 빠르게 구축할 수 있습니다"
   ]
  },
  {
   "cell_type": "code",
   "execution_count": 19,
   "id": "b49d1929",
   "metadata": {},
   "outputs": [],
   "source": [
    "# 간결한 딥러닝 모델 구조 정의\n",
    "model = torch.nn.Sequential(\n",
    "    torch.nn.Linear(10, 5),\n",
    "    torch.nn.ReLU(),\n",
    "    torch.nn.Linear(5, 2)\n",
    ")"
   ]
  },
  {
   "cell_type": "markdown",
   "id": "398a96d2",
   "metadata": {},
   "source": [
    "## 2.3 강력한 GPU 지원"
   ]
  },
  {
   "cell_type": "markdown",
   "id": "24abd5e3",
   "metadata": {},
   "source": [
    "CUDA와 같은 GPU 가속을 통해, Pytorch는 대규모 dataset과 복잡한 model에 대한 빠른 연산을 가능하게 합니다."
   ]
  },
  {
   "cell_type": "code",
   "execution_count": 20,
   "id": "597cf102",
   "metadata": {},
   "outputs": [],
   "source": [
    "# GPU 사용\n",
    "if torch.cuda.is_available():   # CUDA를 사용 가능한지 확인\n",
    "    tensor = tensor.to('cuda')  # CUDA를 사용하기"
   ]
  },
  {
   "cell_type": "markdown",
   "id": "139a886e",
   "metadata": {},
   "source": [
    "## 2.4 Dynamic Computation Graph"
   ]
  },
  {
   "cell_type": "markdown",
   "id": "56f574e8",
   "metadata": {},
   "source": [
    "Pytorch는 'Define-by-Run' 접근 방식을 사용합니다. 즉, 코드가 실행되는 동안 계산 그래프가 동적으로 생성됩니다. 이는 모델을 더 유연하게 만들고 디버깅을 용이하게 합니다."
   ]
  },
  {
   "cell_type": "code",
   "execution_count": 21,
   "id": "33cdf5d3",
   "metadata": {},
   "outputs": [
    {
     "name": "stdout",
     "output_type": "stream",
     "text": [
      "tensor(2.)\n"
     ]
    }
   ],
   "source": [
    "# 자동 미분\n",
    "x = torch.tensor(1., requires_grad=True)\n",
    "y = x * 2\n",
    "y.backward()    # 미분 계산\n",
    "print(x.grad)   # x에 대한 y의 미분 값 확인"
   ]
  },
  {
   "cell_type": "markdown",
   "id": "362f2166",
   "metadata": {},
   "source": [
    "## 2.5 풍부한 라이브러리 및 커뮤니티"
   ]
  },
  {
   "cell_type": "markdown",
   "id": "b2eb687a",
   "metadata": {},
   "source": [
    "Pytorch는 활발한 community와 광범위한 지원을 받고 있습니다. 많은 튜토리얼, 포럼, 문서가 이용 가능하여 학습자와 개발자들이 정보를 얻고 도움을 받을 수 있습니다."
   ]
  },
  {
   "cell_type": "code",
   "execution_count": 22,
   "id": "a9fb269d",
   "metadata": {},
   "outputs": [],
   "source": [
    "# 이미지 처리용 라이브러리\n",
    "import torchvision\n",
    "\n",
    "# 텍스트 처리용 라이브러리\n",
    "import torchtext\n",
    "\n",
    "# 오디오 데이터 처리용 라이브러리\n",
    "import torchaudio"
   ]
  },
  {
   "cell_type": "markdown",
   "id": "a4b5e6af",
   "metadata": {},
   "source": [
    "# 2.6 모듈화 및 재사용 가능성"
   ]
  },
  {
   "cell_type": "markdown",
   "id": "ac82fc56",
   "metadata": {},
   "source": [
    "Pytorch는 모듈식 구조를 가지고 있어, 개별 구성 요소를 쉽게 교체라고 재사용할 수 있습니다. 이는 개발자가 자신의 요구에 맞춰 딥러닝 모델을 맞춤화하기 용이하게 합니다."
   ]
  },
  {
   "cell_type": "code",
   "execution_count": 23,
   "id": "c9780b4f",
   "metadata": {},
   "outputs": [],
   "source": [
    "# 사용자 정의 신경망 레이어\n",
    "class CustomLayer(torch.nn.Module):\n",
    "    def __init__(self):\n",
    "        super(CustomLayer, self).__init__()\n",
    "        # 레이어 초기화 \n",
    "        \n",
    "    def forward(self, x):\n",
    "        # 데이터 x에 대한 연산\n",
    "        return x\n",
    "    \n",
    "# 모델에 사용자 정의 레이어 적용\n",
    "model.add_module('custom_layer', CustomLayer())"
   ]
  },
  {
   "cell_type": "markdown",
   "id": "73f0ebdb",
   "metadata": {},
   "source": [
    "# 3. Pytorch 사용 사례 및 적용 분야"
   ]
  },
  {
   "cell_type": "markdown",
   "id": "fa77fbfe",
   "metadata": {},
   "source": [
    "- 자연어 처리\n",
    "- 컴퓨터 비전\n",
    "- 음성 인식\n",
    "- 그 외"
   ]
  },
  {
   "cell_type": "markdown",
   "id": "360cd89d",
   "metadata": {},
   "source": [
    "# 4. Pytorch와 Tensorflow 비교"
   ]
  },
  {
   "cell_type": "markdown",
   "id": "70ec04b1",
   "metadata": {},
   "source": [
    "Pytorch\n",
    "- [학습 난이도] 파이썬과 유사한 구문과 직관적인 사용법으로 초보자가 배우기에 상대적으로 쉽습니다. 특히 파이썬에 익숙한 학생들이라면 더 빠르게 적응할 수 있습니다.\n",
    "- [사용 분야] 주로 연구 및 개발 분야에서 사용되며, 실험적이고 빠른 프로토타이핑에 유리합니다.\n",
    "- [Programming Style] 동적 계산 그래프를 사용하여 프로그래밍 시 더 많은 유연성을 제공합니다. 코드를 즉석에서 변경하고 결과를 바로 확인할 수 있습니다. \n",
    "- [연구 및 개발] 연구자들 사이에서 인기가 높으며, 최신 AI 연구에서 활발하게 사용됩니다.\n",
    "- [언어 지원] 주로 파이썬에 초점을 맞추고 있습니다.\n",
    "- [커뮤니티 지원] 빠르게 성장하는 커뮤니티를 가지고 있으며, 특히 연구 분야에서 많은 지원을 받고 있습니다.\n",
    "- [업데이트와 개발] 지속적으로 발전하고 있으며, 커뮤니티의 피드백을 바탕으로 빠른 업데이트가 이루어집니다.\n",
    "- [확장 라이브러리와 도메인 지원] \n",
    "    - Torchvision: 이미지 데이터를 위한 데이터셋, 모델, 변환 도구를 제공하여 컴퓨터 비전 프로젝트를 쉽게 시작할 수 있게 합니다.\n",
    "    - Torchtext: 자연어 처리를 위한 데이터셋, 전처리, 토큰화 도구를 포함하여, 텍스트 데이터 처리를 간소화합니다.\n",
    "    - Torchaudio: 오디오 데이터 처리를 위한 데이터셋과 공통 오디오 변환을 제공합니다."
   ]
  },
  {
   "cell_type": "markdown",
   "id": "c64e09d9",
   "metadata": {},
   "source": [
    "TensorFlow\n",
    "- [학습 난이도] 초기에는 다소 복잡할 수 있지만, 2.0 버전 이후 사용자 친화적인 개선이 이루어졌습니다. 많은 튜토리얼과 자료가 제공되어, 학습 과정을 도와줍니다.\n",
    "- [사용 분야] 상업적인 프로젝트와 대규모 프로덕션 환경에서 널리 사용됩니다. 특히 분산 학습과 성능 최적화에 강점을 가지고 있습니다. \n",
    "- [Programming Style] 정적 계산 그래프를 사용하며, 코드를 구조화하여 작성해야 합니다. 이는 대규모 시스템을 구축할 때 장점으로 작용합니다. \n",
    "- [연구 및 개발] 더 넓은 산업적 적용을 위해 설계되었으며, 업계 표준으로 자리 잡고 있습니다. \n",
    "- [언어 지원] 파이썬 외에도 C++, Java 등 여러 언어를 지원하여 다양한 환경에서의 사용이 가능합니다.\n",
    "- [커뮤니티 지원] 매우 큰 커뮤니티와 구글의 강력한 지원을 받으며, 광범위한 문서와 자료가 제공됩니다. \n",
    "- [업데이트와 개발] 안정적인 개발 사이클을 가지고 있으며, 구글의 지원으로 지속적으로 기능이 추가되고 개선됩니다. \n",
    "- [확장 라이브러리와 도메인 지원] \n",
    "    - TensorFlow Dataset (tfds): 다양한 데이터셋에 대한 접근을 용이하게 하여, 빠른 프로토타이핑과 실험을 지원합니다. \n",
    "    - TensorFlow Text (tf.text): 자연어 처리를 위한 전처리 도구를 제공하여, text data 작업의 효율성을 향상시킵니다. \n",
    "    - Torchaudio: audio, image, text data 처리를 위한 다양한 파일 포맷의 입출력을 지원합니다."
   ]
  },
  {
   "cell_type": "markdown",
   "id": "7c5efcb1",
   "metadata": {},
   "source": [
    "## 4.1 Pyroch 예시 code"
   ]
  },
  {
   "cell_type": "markdown",
   "id": "17d9ae6b",
   "metadata": {},
   "source": [
    "Pytorch에서는 tensor를 생성하고 기본적인 수학 연산을 수행하는 방법은 다음과 같습니다."
   ]
  },
  {
   "cell_type": "code",
   "execution_count": 24,
   "id": "519829f1",
   "metadata": {},
   "outputs": [
    {
     "name": "stdout",
     "output_type": "stream",
     "text": [
      "tensor([8., 7.])\n"
     ]
    }
   ],
   "source": [
    "import torch\n",
    "\n",
    "# tensor 생성\n",
    "a = torch.tensor([2., 3.])\n",
    "b = torch.tensor([6., 4.])\n",
    "\n",
    "# tensor 덧셈 연산\n",
    "c = torch.add(a, b)\n",
    "\n",
    "print(c)"
   ]
  },
  {
   "cell_type": "markdown",
   "id": "4df1f173",
   "metadata": {},
   "source": [
    "TensorFlow에서는 유사한 텐서 연산을 다음과 같이 수행할 수 있습니다. \\\n",
    "어때요 거의 비슷하죠?"
   ]
  },
  {
   "cell_type": "code",
   "execution_count": 25,
   "id": "1ebceacf",
   "metadata": {},
   "outputs": [
    {
     "ename": "ModuleNotFoundError",
     "evalue": "No module named 'tensorflow'",
     "output_type": "error",
     "traceback": [
      "\u001b[1;31m---------------------------------------------------------------------------\u001b[0m",
      "\u001b[1;31mModuleNotFoundError\u001b[0m                       Traceback (most recent call last)",
      "Cell \u001b[1;32mIn[25], line 1\u001b[0m\n\u001b[1;32m----> 1\u001b[0m \u001b[38;5;28;01mimport\u001b[39;00m\u001b[38;5;250m \u001b[39m\u001b[38;5;21;01mtensorflow\u001b[39;00m\u001b[38;5;250m \u001b[39m\u001b[38;5;28;01mas\u001b[39;00m\u001b[38;5;250m \u001b[39m\u001b[38;5;21;01mtf\u001b[39;00m\n\u001b[0;32m      3\u001b[0m \u001b[38;5;66;03m# tensor 생성\u001b[39;00m\n\u001b[0;32m      4\u001b[0m a \u001b[38;5;241m=\u001b[39m tf\u001b[38;5;241m.\u001b[39mconstant([\u001b[38;5;241m2.\u001b[39m, \u001b[38;5;241m3.\u001b[39m])\n",
      "\u001b[1;31mModuleNotFoundError\u001b[0m: No module named 'tensorflow'"
     ]
    }
   ],
   "source": [
    "import tensorflow as tf\n",
    "\n",
    "# tensor 생성\n",
    "a = tf.constant([2., 3.])\n",
    "b = tf.constant([6., 4.])\n",
    "\n",
    "# tensor 덧셈 연산\n",
    "c = tf.add(a, b)\n",
    "\n",
    "print(c)"
   ]
  },
  {
   "cell_type": "markdown",
   "id": "cbfbdf19",
   "metadata": {},
   "source": [
    "# 5. Pytorch 핵심 모듈 소개"
   ]
  },
  {
   "cell_type": "markdown",
   "id": "c38781ba",
   "metadata": {},
   "source": [
    "- torch\n",
    "    - 루트 패키지: torch 모듈은 Pytorch의 기본 루트 패키지로, 다차원 tensor를 생성하고 조작하는 데 필요한 다양한 함수와 data type을 제공합니다.\n",
    "    - math: 다양한 수학 함수가 포함되어 있어 텐서에 대한 연산을 수행할 수 있습니다.\n",
    "- torch.nn\n",
    "    - 딥러닝 모델 구축: torch.nn 모듈은 신경망을 구축하기 위한 빌딩 블록을 제공합니다. 이 모듈에는 신경망을 구성하는데 필요한 다양한 도구들이 포함되어 있습니다. 이를 통해 사용자는 복잡한 딥러닝 모델 아키텍처를 쉽게 구현할 수 있습니다.\n",
    "- torch.utils.data\n",
    "    - 데이터 전처리: Dataset 클래스를 이용해 data를 쉽게 다룰 수 있어요.\n",
    "    - 데이터 로딩: DataLoader 클래스를 이용해 data를 섞거나, 데이터 로딩을 병렬화 해줍니다. 이를 통해 효율적인 데이터 관리와 미니배치 학습이 가능해집니다. \n",
    "- torch.optim\n",
    "    - 최적화 알고리즘: torch.optim 모듈은 최적화 알고리즘을 구현하고 있습니다. 이 모듈에는 학습에 필요한 다양한 최적화 알고리즘이 포함되어 있어요.\n",
    "- torch.autograd\n",
    "    - 자동 미분: torch.autograd 모듈은 자동 미분 기능을 제공하여 신경망에서 역전파 계산을 자동화합니다. 이를 통해 복잡한 신경망 구조에서도 gradient(기울기)를 효율적으로 계산할 수 있습니다. torch.Tensor 객체는 .requires_grad 속성을 True로 설정함으로써 해당 텐서에 대한 모든 연산을 추적하고, 자동으로 미분을 계산할 수 있게 됩니다. \n",
    "- torch.cuda\n",
    "    - GPU 사용: torch.cuda 모듈은 NVIDIA의 CUDA를 통해 GPU에서의 텐서 연산 가속을 가능하게 합니다. 이 모듈을 사용하여 Tensor를 CPU와 GPU 간에 이동시키고, GPU에서 직접 계산을 수행할 수 있습니다. 이는 대규모 데이터셋과 복잡한 모델을 사용할 때 중요한 성능 향상을 제공합니다. "
   ]
  },
  {
   "cell_type": "code",
   "execution_count": 27,
   "id": "4f628eb9",
   "metadata": {},
   "outputs": [],
   "source": [
    "import torch\n",
    "import torch.nn as nn\n",
    "from torch.utils.data import Dataset, DataLoader\n",
    "import torch.optim as optim\n",
    "import torch.autograd as autograd\n",
    "import torch.cuda as cuda"
   ]
  }
 ],
 "metadata": {
  "kernelspec": {
   "display_name": "pytorch_env",
   "language": "python",
   "name": "python3"
  },
  "language_info": {
   "codemirror_mode": {
    "name": "ipython",
    "version": 3
   },
   "file_extension": ".py",
   "mimetype": "text/x-python",
   "name": "python",
   "nbconvert_exporter": "python",
   "pygments_lexer": "ipython3",
   "version": "3.10.18"
  }
 },
 "nbformat": 4,
 "nbformat_minor": 5
}
