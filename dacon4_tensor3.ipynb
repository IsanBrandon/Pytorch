{
 "cells": [
  {
   "cell_type": "markdown",
   "id": "43a2a0ad",
   "metadata": {},
   "source": [
    "# Stage 4. Tensor의 연산"
   ]
  },
  {
   "cell_type": "markdown",
   "id": "272eee06",
   "metadata": {},
   "source": [
    "# 1. 기본 연산\n",
    "## 1.1. Tensor와 Scalar의 연산\n",
    "PyTorch에서 Tensor와 Scalar(단일 숫자)간의 사칙연산은 지원됩니다. Tensor와 Scalar 사이의 덧셈 연산을 수행할 때, Scalar 값은 Tensor의 모든 요소에 대해 적용됩니다. \\\n",
    "\\\n",
    "연산 방법은 Python과 동일합니다.\n",
    "- 덧셈: +\n",
    "- 뺄셈: -\n",
    "- 곱셈: *\n",
    "- 나눗셈: /\n",
    "- 제곱: **"
   ]
  },
  {
   "cell_type": "code",
   "execution_count": 3,
   "id": "9bbbf02b",
   "metadata": {},
   "outputs": [
    {
     "name": "stdout",
     "output_type": "stream",
     "text": [
      "Scalar 덧셈: \n",
      " tensor([[2., 3.],\n",
      "        [4., 5.]])\n",
      "Scalar 뺄셈: \n",
      " tensor([[0., 1.],\n",
      "        [2., 3.]])\n",
      "Scalar 곱셈: \n",
      " tensor([[2., 4.],\n",
      "        [6., 8.]])\n",
      "Scalar 나눗셈: \n",
      " tensor([[0.5000, 1.0000],\n",
      "        [1.5000, 2.0000]])\n",
      "Scalar 제곱: \n",
      " tensor([[ 1.,  4.],\n",
      "        [ 9., 16.]])\n"
     ]
    }
   ],
   "source": [
    "import torch\n",
    "\n",
    "tensor = torch.tensor([[1, 2], [3, 4]], dtype=torch.float32)\n",
    "\n",
    "# Tensor와 Scalar의 덧셈\n",
    "add_scalar = tensor + 1\n",
    "\n",
    "# Tensor와 Scalar의 뺄셈\n",
    "sub_scalar = tensor - 1\n",
    "\n",
    "# Tensor와 Scalar의 곱셈\n",
    "mul_scalar = tensor * 2\n",
    "\n",
    "# Tensor와 Scalar의 나눗셈\n",
    "div_scalar = tensor / 2\n",
    "\n",
    "# Tensor와 Scalar의 제곱\n",
    "pow_scalar = tensor ** 2\n",
    "\n",
    "print('Scalar 덧셈: \\n', add_scalar)\n",
    "print('Scalar 뺄셈: \\n', sub_scalar)\n",
    "print('Scalar 곱셈: \\n', mul_scalar)\n",
    "print('Scalar 나눗셈: \\n', div_scalar)\n",
    "print('Scalar 제곱: \\n', pow_scalar)"
   ]
  },
  {
   "cell_type": "markdown",
   "id": "1d11816d",
   "metadata": {},
   "source": [
    "## 1.2. 덧셈과 뺄셈\n",
    "Tensor의 덧셈과 뺄셈 연산은 두 Tensor의 동일 위치에 있는 요소들 끼리 연산을 수행합니다.\\\n",
    "\\\n",
    "예를 들어, 두 개의 2x2 텐서 tensor_a와 tensor_b는 각각 [[1,2],[3,4]]와 [[5,6],[7,8]]의 값을 갖을 때, 이 둘의 연산은 아래와 같이 계산됩니다.\n",
    "- 덧셈 결과: 각 요소를 더한 결과인 [[6,8],[10,12]]를 얻습니다. 이는 tensor_a의 각 요소에 tensor_b의 해당 요소를 더하여 계산된 결과입니다.\n",
    "- 뺄셈 결과: tensor_a에서 tensor_b를 뺀 결과인 [[-4,-4],[-4,-4]]를 얻습니다. 이는 tensor_a의 각 요소에서 tensor_b의 해당 요소를 빼서 계산된 결과입니다. "
   ]
  },
  {
   "cell_type": "code",
   "execution_count": 4,
   "id": "a2d6ae21",
   "metadata": {},
   "outputs": [
    {
     "name": "stdout",
     "output_type": "stream",
     "text": [
      "덧셈 결과: \n",
      " tensor([[ 6,  8],\n",
      "        [10, 12]])\n",
      "뺄셈 결과: \n",
      " tensor([[-4, -4],\n",
      "        [-4, -4]])\n"
     ]
    }
   ],
   "source": [
    "tensor_a = torch.tensor([[1,2], [3,4]])\n",
    "tensor_b = torch.tensor([[5,6], [7,8]])\n",
    "\n",
    "# Tensor 덧셈\n",
    "add_result = tensor_a + tensor_b\n",
    "# 또는 torch.add(tensor_a, tensor_b)를 사용할 수 있습니다.\n",
    "\n",
    "# Tensor 뺄셈\n",
    "sub_result = tensor_a - tensor_b\n",
    "# 또는 torch.sub(tensor_a, tensor_b)를 사용할 수 있습니다.\n",
    "\n",
    "print('덧셈 결과: \\n', add_result)\n",
    "print('뺄셈 결과: \\n', sub_result)"
   ]
  },
  {
   "cell_type": "markdown",
   "id": "ab4a6cd1",
   "metadata": {},
   "source": [
    "## 1.3. 곱셈과 나눗셈\n",
    "요소별 곱셈과 나눗셈 연산도 마찬가지로 각 텐서의 동일한 위치에 있는 요소끼리 수행됩니다.\\\n",
    "\\\n",
    "예를 들어, tensor_a와 tensor_b는 각각 [2,3,4]와 [5,6,7]의 값을 갖는 Tensor입니다. 연산 결과는 다음과 같습니다.\n",
    "- 요소별 곱셈 결과: 각 요소의 곱셈 결과인 [10, 18, 28]을 얻습니다.\n",
    "- 요소별 나눗셈 결과: 각 요소를 나눈 결과인 [0.4, 0.5, 0.5714...]를 얻습니다."
   ]
  },
  {
   "cell_type": "code",
   "execution_count": null,
   "id": "c26b532f",
   "metadata": {},
   "outputs": [],
   "source": []
  }
 ],
 "metadata": {
  "kernelspec": {
   "display_name": "pytorch_env",
   "language": "python",
   "name": "python3"
  },
  "language_info": {
   "codemirror_mode": {
    "name": "ipython",
    "version": 3
   },
   "file_extension": ".py",
   "mimetype": "text/x-python",
   "name": "python",
   "nbconvert_exporter": "python",
   "pygments_lexer": "ipython3",
   "version": "3.9.23"
  }
 },
 "nbformat": 4,
 "nbformat_minor": 5
}
