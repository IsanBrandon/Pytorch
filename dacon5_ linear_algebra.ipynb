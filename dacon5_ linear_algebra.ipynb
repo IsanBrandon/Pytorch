{
 "cells": [
  {
   "cell_type": "markdown",
   "id": "0a484d54",
   "metadata": {},
   "source": [
    "# Stage 5. Linear Algebra"
   ]
  },
  {
   "cell_type": "markdown",
   "id": "25732767",
   "metadata": {},
   "source": [
    "# 1. 곱셈 연산\n",
    "## 1.1 Vector 곱셈 (점곱, Dot Product)\n",
    "Dot Product는 두 Vector 간의 연산으로, 각 Vector의 상응하는 성분들을 곱한 뒤 그 결과들을 모두 더해 하나의 Scalar 값으로 반환합니다.  \n",
    "이 연산은 두 Vector의 내적을 계산하는 것과 동일합니다.\n",
    "\n",
    "Vector의 곱셈은 다음과 같이 계산합니다.\n",
    "\n",
    "$$\n",
    "a = \\begin{bmatrix}\n",
    "a_1 \\\\\n",
    "a_2 \\\\\n",
    "\\vdots \\\\\n",
    "a_n\n",
    "\\end{bmatrix}, \\quad\n",
    "b = \\begin{bmatrix}\n",
    "b_1 \\\\\n",
    "b_2 \\\\\n",
    "\\vdots \\\\\n",
    "b_n\n",
    "\\end{bmatrix}\n",
    "$$\n",
    "\n",
    "$$\n",
    "a \\cdot b = \\sum_{i=1}^{n} a_i b_i = a_1 b_1 + a_2 b_2 + \\cdots + a_n b_n\n",
    "$$"
   ]
  },
  {
   "cell_type": "code",
   "execution_count": null,
   "id": "65bf15ef",
   "metadata": {},
   "outputs": [
    {
     "name": "stdout",
     "output_type": "stream",
     "text": [
      "벡터의 내적 결과: 32\n"
     ]
    }
   ],
   "source": [
    "import torch\n",
    "\n",
    "# Vector 정의\n",
    "vector1 = torch.tensor([1, 2, 3])\n",
    "vector2 = torch.tensor([4, 5, 6])\n",
    "\n",
    "# Vector의 내적 계산\n",
    "dot_product = vector1 @ vector2\n",
    "# 또는 torch.dot(vector1, vector2) 로 내적을 계산할 수 있다.\n",
    "\n",
    "print(\"벡터의 내적 결과:\", dot_product) \n",
    "# 출력이 32인 이유: 1*4 + 2*5 + 3*6 = 32"
   ]
  },
  {
   "cell_type": "markdown",
   "id": "985ed06b",
   "metadata": {},
   "source": [
    "## 1.2 행렬의 곱셈\n",
    "\n",
    "행렬 $A$와 행렬 $B$의 곱셈 $AB$를 고려해봅시다.  \n",
    "$A$가 $m \\times n$ 행렬이고 $B$가 $n \\times p$ 행렬일 때,  \n",
    "두 행렬의 곱은 $m \\times p$ 행렬 $C$가 됩니다.  \n",
    "\n",
    "행렬 $C$의 각 요소 $c_{ij}$는 다음과 같이 계산됩니다.\n",
    "\n",
    "$$\n",
    "c_{ij} = \\sum_{k=1}^{n} a_{ik} \\cdot b_{kj}\n",
    "$$\n",
    "\n",
    "구체적으로는 아래와 같이 계산하면 됩니다.\n",
    "\n",
    "$$\n",
    "A = \\begin{bmatrix}\n",
    "a_{11} & a_{12} & a_{13} \\\\\n",
    "a_{21} & a_{22} & a_{23}\n",
    "\\end{bmatrix}, \\quad\n",
    "B = \\begin{bmatrix}\n",
    "b_{11} & b_{12} \\\\\n",
    "b_{21} & b_{22} \\\\\n",
    "b_{31} & b_{32}\n",
    "\\end{bmatrix}\n",
    "$$\n",
    "\n",
    "이때, 행렬 곱은\n",
    "\n",
    "$$\n",
    "AB = \\begin{bmatrix}\n",
    "a_{11}b_{11} + a_{12}b_{21} + a_{13}b_{31} & a_{11}b_{12} + a_{12}b_{22} + a_{13}b_{32} \\\\\n",
    "a_{21}b_{11} + a_{22}b_{21} + a_{23}b_{31} & a_{21}b_{12} + a_{22}b_{22} + a_{23}b_{32}\n",
    "\\end{bmatrix}\n",
    "$$\n"
   ]
  },
  {
   "cell_type": "code",
   "execution_count": 4,
   "id": "ffef6338",
   "metadata": {},
   "outputs": [
    {
     "name": "stdout",
     "output_type": "stream",
     "text": [
      "행렬 matrix1:\n",
      " tensor([[1, 2],\n",
      "        [3, 4]])\n",
      "행렬 matrix2:\n",
      " tensor([[5, 6],\n",
      "        [7, 8]])\n",
      "matrix1와 matrix2의 곱 mul_matrix:\n",
      " tensor([[19, 22],\n",
      "        [43, 50]])\n"
     ]
    }
   ],
   "source": [
    "# 두 개의 2x2 행렬을 정의합니다.\n",
    "matrix1 = torch.tensor([[1, 2], [3, 4]])\n",
    "matrix2 = torch.tensor([[5, 6], [7, 8]])\n",
    "\n",
    "# 행렬 곱셈 연산을 수행합니다.\n",
    "mul_matrix = torch.matmul(matrix1, matrix2)\n",
    "\n",
    "print(\"행렬 matrix1:\\n\", matrix1)\n",
    "print(\"행렬 matrix2:\\n\", matrix2)\n",
    "print(\"matrix1와 matrix2의 곱 mul_matrix:\\n\", mul_matrix)"
   ]
  },
  {
   "cell_type": "markdown",
   "id": "e1132f4d",
   "metadata": {},
   "source": [
    "# 2. Determinant (행렬 식)\n",
    "### 행렬식이란\n",
    "행렬식의 값은 행렬이 **역행렬**을 가지는지 여부를 결정합니다. 행렬식이 0이 아니면 행렬은 역행렬을 가지며, 행렬식이 0이면 행렬은 역행렬을 가지지 않습니다.\\\n",
    "\\\n",
    "또한, 행렬식은 모든 열(또는 행)이 생성하는 공간의 부피를 나타내며, 행렬이 선형 변환을 수행할 때 공간이 얼마나 확장 또는 축소되는지를 나타냅니다. 이는 행렬이 선형 독립인 열(또는 행)을 가지고 있는지 여부를 판단하는 데도 사용됩니다.\\\n",
    "\\\n",
    "PyTorch에서는 torch.linalg.det() 함수를 사용하여 주어진 행렬의 행렬식을 계산합니다.\n",
    "\n",
    "### 행렬식\n",
    "$2\\times2$ 행렬의 경우, 행렬식은 다음과 같습니다.\n",
    "$$\n",
    "\\det(A) = ad - bc\n",
    "$$\n",
    "그 외 일반적인 행렬의 행렬식은 다음과 같습니다.\n",
    "$$\n",
    "\\det(A) = \\sum_{j=1}^{n} (-1)^{i+j} a_{ij} \\cdot \\det(A_{ij})\n",
    "$$\n",
    "$a_{ij}$는 A의 i행 j열에 위치한요소. $A_{ij}$는 $a_{ij}$를 제외한 행렬에서 i행과 j열을 제거하여 얻은 부분 행렬\n",
    "\n",
    "## 2.1. 행렬식 1"
   ]
  },
  {
   "cell_type": "markdown",
   "id": "3179e2f8",
   "metadata": {},
   "source": []
  }
 ],
 "metadata": {
  "kernelspec": {
   "display_name": "pytorch_env",
   "language": "python",
   "name": "python3"
  },
  "language_info": {
   "codemirror_mode": {
    "name": "ipython",
    "version": 3
   },
   "file_extension": ".py",
   "mimetype": "text/x-python",
   "name": "python",
   "nbconvert_exporter": "python",
   "pygments_lexer": "ipython3",
   "version": "3.9.23"
  }
 },
 "nbformat": 4,
 "nbformat_minor": 5
}
